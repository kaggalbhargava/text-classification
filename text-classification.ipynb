{
 "cells": [
  {
   "cell_type": "code",
   "execution_count": 25,
   "metadata": {},
   "outputs": [],
   "source": [
    "#import the libraries for data preprocessing and analysis \n",
    "import pandas as pd\n",
    "import numpy as np\n",
    "import matplotlib.pyplot as plt\n",
    "from sklearn.preprocessing import LabelEncoder\n",
    "from sklearn.model_selection import train_test_split\n",
    "from sklearn import model_selection, naive_bayes, svm\n",
    "from sklearn.metrics import accuracy_score\n",
    "import seaborn as sns\n",
    "sns.set()"
   ]
  },
  {
   "cell_type": "code",
   "execution_count": 5,
   "metadata": {},
   "outputs": [],
   "source": [
    "data = pd.read_csv(\"compliance.csv\")"
   ]
  },
  {
   "cell_type": "code",
   "execution_count": 6,
   "metadata": {},
   "outputs": [
    {
     "data": {
      "text/html": [
       "<div>\n",
       "<style scoped>\n",
       "    .dataframe tbody tr th:only-of-type {\n",
       "        vertical-align: middle;\n",
       "    }\n",
       "\n",
       "    .dataframe tbody tr th {\n",
       "        vertical-align: top;\n",
       "    }\n",
       "\n",
       "    .dataframe thead th {\n",
       "        text-align: right;\n",
       "    }\n",
       "</style>\n",
       "<table border=\"1\" class=\"dataframe\">\n",
       "  <thead>\n",
       "    <tr style=\"text-align: right;\">\n",
       "      <th></th>\n",
       "      <th>Profile</th>\n",
       "      <th>State</th>\n",
       "      <th>Exempt</th>\n",
       "      <th>Description</th>\n",
       "      <th>Status</th>\n",
       "      <th>Category</th>\n",
       "      <th>Classification</th>\n",
       "      <th>Type</th>\n",
       "    </tr>\n",
       "  </thead>\n",
       "  <tbody>\n",
       "    <tr>\n",
       "      <th>0</th>\n",
       "      <td>New York Datacenter</td>\n",
       "      <td>Monitor</td>\n",
       "      <td>True</td>\n",
       "      <td>Establish and maintain identification mechanis...</td>\n",
       "      <td>Compliant</td>\n",
       "      <td>Physical and environmental protection</td>\n",
       "      <td>Preventive</td>\n",
       "      <td>Establish/Maintain Documentation</td>\n",
       "    </tr>\n",
       "    <tr>\n",
       "      <th>1</th>\n",
       "      <td>New York Datacenter</td>\n",
       "      <td>Monitor</td>\n",
       "      <td>False</td>\n",
       "      <td>Review facility access lists.</td>\n",
       "      <td>Not Applicable</td>\n",
       "      <td>Physical and environmental protection</td>\n",
       "      <td>Detective</td>\n",
       "      <td>Establish/Maintain Documentation</td>\n",
       "    </tr>\n",
       "    <tr>\n",
       "      <th>2</th>\n",
       "      <td>New York Datacenter</td>\n",
       "      <td>Monitor</td>\n",
       "      <td>False</td>\n",
       "      <td>Manage access to loading docks, unloading dock...</td>\n",
       "      <td>Compliant</td>\n",
       "      <td>Physical and environmental protection</td>\n",
       "      <td>Preventive</td>\n",
       "      <td>Physical and Environmental Protection</td>\n",
       "    </tr>\n",
       "    <tr>\n",
       "      <th>3</th>\n",
       "      <td>New York Datacenter</td>\n",
       "      <td>Monitor</td>\n",
       "      <td>False</td>\n",
       "      <td>Establish and maintain a visitor access permis...</td>\n",
       "      <td>Not Applicable</td>\n",
       "      <td>Physical and environmental protection</td>\n",
       "      <td>Preventive</td>\n",
       "      <td>Establish/Maintain Documentation</td>\n",
       "    </tr>\n",
       "    <tr>\n",
       "      <th>4</th>\n",
       "      <td>New York Datacenter</td>\n",
       "      <td>Monitor</td>\n",
       "      <td>False</td>\n",
       "      <td>Use locks with electronic authentication syste...</td>\n",
       "      <td>Compliant</td>\n",
       "      <td>Physical and environmental protection</td>\n",
       "      <td>Preventive</td>\n",
       "      <td>Configuration</td>\n",
       "    </tr>\n",
       "  </tbody>\n",
       "</table>\n",
       "</div>"
      ],
      "text/plain": [
       "               Profile    State  Exempt  \\\n",
       "0  New York Datacenter  Monitor    True   \n",
       "1  New York Datacenter  Monitor   False   \n",
       "2  New York Datacenter  Monitor   False   \n",
       "3  New York Datacenter  Monitor   False   \n",
       "4  New York Datacenter  Monitor   False   \n",
       "\n",
       "                                         Description          Status  \\\n",
       "0  Establish and maintain identification mechanis...       Compliant   \n",
       "1                      Review facility access lists.  Not Applicable   \n",
       "2  Manage access to loading docks, unloading dock...       Compliant   \n",
       "3  Establish and maintain a visitor access permis...  Not Applicable   \n",
       "4  Use locks with electronic authentication syste...       Compliant   \n",
       "\n",
       "                                Category Classification  \\\n",
       "0  Physical and environmental protection     Preventive   \n",
       "1  Physical and environmental protection      Detective   \n",
       "2  Physical and environmental protection     Preventive   \n",
       "3  Physical and environmental protection     Preventive   \n",
       "4  Physical and environmental protection     Preventive   \n",
       "\n",
       "                                    Type  \n",
       "0       Establish/Maintain Documentation  \n",
       "1       Establish/Maintain Documentation  \n",
       "2  Physical and Environmental Protection  \n",
       "3       Establish/Maintain Documentation  \n",
       "4                          Configuration  "
      ]
     },
     "execution_count": 6,
     "metadata": {},
     "output_type": "execute_result"
    }
   ],
   "source": [
    "data.head()"
   ]
  },
  {
   "cell_type": "code",
   "execution_count": 7,
   "metadata": {},
   "outputs": [
    {
     "data": {
      "text/plain": [
       "Profile            0\n",
       "State              0\n",
       "Exempt             0\n",
       "Description       12\n",
       "Status            27\n",
       "Category           3\n",
       "Classification     3\n",
       "Type               3\n",
       "dtype: int64"
      ]
     },
     "execution_count": 7,
     "metadata": {},
     "output_type": "execute_result"
    }
   ],
   "source": [
    "#check for nan values\n",
    "data.isnull().sum()"
   ]
  },
  {
   "cell_type": "code",
   "execution_count": 8,
   "metadata": {},
   "outputs": [],
   "source": [
    "#we are dropping the NAN rows\n",
    "data.dropna(axis=0, inplace=True)"
   ]
  },
  {
   "cell_type": "code",
   "execution_count": 9,
   "metadata": {},
   "outputs": [],
   "source": [
    "#here based on the decription we need to classify the classification type\n",
    "y= data['Classification']"
   ]
  },
  {
   "cell_type": "code",
   "execution_count": 10,
   "metadata": {},
   "outputs": [
    {
     "data": {
      "text/plain": [
       "Text(0.5, 1.0, 'Number of Preventive and Detective class')"
      ]
     },
     "execution_count": 10,
     "metadata": {},
     "output_type": "execute_result"
    },
    {
     "data": {
      "image/png": "[encoded data removed]",
      "text/plain": [
       "<Figure size 432x288 with 1 Axes>"
      ]
     },
     "metadata": {},
     "output_type": "display_data"
    }
   ],
   "source": [
    "#distribution of Preventive and Detective class\n",
    "sns.countplot(y)\n",
    "plt.xlabel('Label')\n",
    "plt.title('Number of Preventive and Detective class')"
   ]
  },
  {
   "cell_type": "code",
   "execution_count": 11,
   "metadata": {},
   "outputs": [],
   "source": [
    "#converting text into binary\n",
    "le = LabelEncoder()\n",
    "Y = le.fit_transform(y)\n",
    "Y = Y.reshape(-1,1)"
   ]
  },
  {
   "cell_type": "code",
   "execution_count": 12,
   "metadata": {},
   "outputs": [],
   "source": [
    "#Text-data Pre-processing\n",
    "#import reuired libraries\n",
    "from nltk.tokenize import word_tokenize\n",
    "from nltk.corpus import stopwords\n",
    "import string\n",
    "from nltk.stem import WordNetLemmatizer\n"
   ]
  },
  {
   "cell_type": "code",
   "execution_count": 13,
   "metadata": {},
   "outputs": [
    {
     "data": {
      "text/plain": [
       "0       [Establish, maintain, identification, mechanis...\n",
       "1                       [Review, facility, access, lists]\n",
       "2       [Manage, access, loading, docks, unloading, do...\n",
       "3       [Establish, maintain, visitor, access, permiss...\n",
       "4       [Use, locks, electronic, authentication, syste...\n",
       "5       [Monitor, unauthorized, physical, access, phys...\n",
       "6       [Establish, maintain, identification, procedures]\n",
       "7       [Establish, maintain, identification, issuance...\n",
       "8       [Use, locks, protect, unauthorized, physical, ...\n",
       "9       [Secure, physical, entry, points, physical, ac...\n",
       "10      [Authorize, visitors, granting, entry, physica...\n",
       "11          [Control, physical, access, within, facility]\n",
       "12      [Escort, uncleared, personnel, need, work, acc...\n",
       "13      [Identify, document, physical, access, control...\n",
       "14        [Escort, visitors, within, facility, necessary]\n",
       "16      [Maintain, review, facility, access, lists, pe...\n",
       "17      [Document, continuity, plan, exercise, test, r...\n",
       "18      [Transport, backup, media, lockable, electroni...\n",
       "19      [Separate, site, electronic, media, storage, f...\n",
       "20      [Separate, alternate, facility, primary, facil...\n",
       "21         [Install, generator, sized, support, facility]\n",
       "23      [Designate, alternate, facility, continuity, p...\n",
       "25      [Establish, maintain, Service, Level, Agreemen...\n",
       "26      [Include, damaged, site, continuity, procedure...\n",
       "27      [Store, backup, media, site, electronic, media...\n",
       "28      [Prepare, alternate, facility, emergency, offs...\n",
       "29          [Test, continuity, plan, alternate, facility]\n",
       "31                             [Manage, change, requests]\n",
       "32                             [Manage, change, requests]\n",
       "33                             [Manage, change, requests]\n",
       "                              ...                        \n",
       "1471      [Protect, remote, access, accounts, encryption]\n",
       "1472    [Implement, two, factor, authentication, techn...\n",
       "1473    [Control, remote, access, network, access, con...\n",
       "1474    [Disallow, remote, users, copying, files, remo...\n",
       "1475           [Monitor, evaluate, remote, access, usage]\n",
       "1476      [Protect, remote, access, accounts, encryption]\n",
       "1477      [Control, methods, remote, access, teleworking]\n",
       "1478    [Implement, two, factor, authentication, techn...\n",
       "1479    [Control, remote, access, network, access, con...\n",
       "1480    [Disallow, remote, users, copying, files, remo...\n",
       "1481      [Protect, remote, access, accounts, encryption]\n",
       "1482           [Monitor, evaluate, remote, access, usage]\n",
       "1483      [Control, methods, remote, access, teleworking]\n",
       "1484    [Implement, two, factor, authentication, techn...\n",
       "1485    [Control, remote, access, network, access, con...\n",
       "1486    [Disallow, remote, users, copying, files, remo...\n",
       "1487      [Protect, remote, access, accounts, encryption]\n",
       "1488           [Monitor, evaluate, remote, access, usage]\n",
       "1489      [Control, methods, remote, access, teleworking]\n",
       "1490    [Implement, two, factor, authentication, techn...\n",
       "1491    [Control, remote, access, network, access, con...\n",
       "1492      [Protect, remote, access, accounts, encryption]\n",
       "1493    [Disallow, remote, users, copying, files, remo...\n",
       "1494           [Monitor, evaluate, remote, access, usage]\n",
       "1495      [Control, methods, remote, access, teleworking]\n",
       "1496    [Implement, two, factor, authentication, techn...\n",
       "1497    [Control, remote, access, network, access, con...\n",
       "1498    [Disallow, remote, users, copying, files, remo...\n",
       "1499           [Monitor, evaluate, remote, access, usage]\n",
       "1500      [Control, methods, remote, access, teleworking]\n",
       "Name: Description, Length: 1465, dtype: object"
      ]
     },
     "execution_count": 13,
     "metadata": {},
     "output_type": "execute_result"
    }
   ],
   "source": [
    "# deifininf a function for text preprocessing\n",
    "data['Description'] = data['Description'].str.replace(\"[^a-zA-Z#]\", \" \")\n",
    "def message_text_processing (mess):\n",
    "    no_punctuation = [char for char in mess if char not in string.punctuation ]#removing the punctuations\n",
    "    no_punctuation = ''.join(no_punctuation)\n",
    "    no_punctuation\n",
    "    #spliting into words, converting all letters into lowercase and removing the stopwords\n",
    "    return [word for word in no_punctuation.split() if word.lower() not in stopwords.words('english')]\n",
    "\n",
    "data['Description'].apply(message_text_processing)\n"
   ]
  },
  {
   "cell_type": "code",
   "execution_count": 16,
   "metadata": {},
   "outputs": [],
   "source": [
    "train_X, test_X, train_Y, test_Y = model_selection.train_test_split(data['Description'],Y,test_size=0.3)"
   ]
  },
  {
   "cell_type": "code",
   "execution_count": null,
   "metadata": {},
   "outputs": [],
   "source": []
  },
  {
   "cell_type": "code",
   "execution_count": 18,
   "metadata": {},
   "outputs": [
    {
     "name": "stdout",
     "output_type": "stream",
     "text": [
      "(1465, 176)\n"
     ]
    }
   ],
   "source": [
    "print(message_words.shape)"
   ]
  },
  {
   "cell_type": "markdown",
   "metadata": {},
   "source": [
    "TF-IDF is an abbreviation for Term Frequency-Inverse Document Frequency and is a very common algorithm to transform text into a meaningful representation of numbers and to calculate the overall document weightage of a word."
   ]
  },
  {
   "cell_type": "code",
   "execution_count": 20,
   "metadata": {},
   "outputs": [],
   "source": [
    "#turning a collection of text documents into numerical feature vectors\n",
    "from sklearn.feature_extraction.text import TfidfVectorizer\n",
    "Tfidf_vect = TfidfVectorizer(max_features=5000) #will be maximum of 5000 unique words\n",
    "Tfidf_vect.fit(data['Description'])\n",
    "Train_X_Tfidf = Tfidf_vect.transform(train_X)\n",
    "Test_X_Tfidf = Tfidf_vect.transform(test_X)"
   ]
  },
  {
   "cell_type": "code",
   "execution_count": 21,
   "metadata": {},
   "outputs": [
    {
     "name": "stdout",
     "output_type": "stream",
     "text": [
      "{'establish': 56, 'and': 8, 'maintain': 89, 'identification': 73, 'mechanism': 92, 'termination': 153, 'procedures': 119, 'review': 133, 'facility': 60, 'access': 0, 'lists': 84, 'manage': 90, 'to': 159, 'loading': 85, 'docks': 48, 'unloading': 164, 'mail': 88, 'rooms': 135, 'visitor': 170, 'permissions': 109, 'policy': 115, 'use': 167, 'locks': 87, 'with': 173, 'electronic': 51, 'authentication': 17, 'systems': 150, 'or': 104, 'cipher': 30, 'as': 13, 'necessary': 96, 'monitor': 95, 'for': 63, 'unauthorized': 162, 'physical': 111, 'at': 16, 'entry': 54, 'points': 113, 'issuance': 82, 'cards': 26, 'badges': 21, 'protect': 121, 'against': 3, 'secure': 137, 'controls': 40, 'security': 138, 'guards': 70, 'authorize': 18, 'visitors': 171, 'before': 23, 'granting': 69, 'areas': 12, 'containing': 36, 'restricted': 131, 'data': 44, 'information': 79, 'control': 39, 'within': 174, 'the': 156, 'escort': 55, 'uncleared': 163, 'personnel': 110, 'who': 172, 'need': 97, 'work': 175, 'in': 77, 'identify': 74, 'document': 49, 'all': 5, 'of': 100, 'have': 72, 'been': 22, 'granted': 68, 'authorized': 19, 'facilities': 59, 'that': 155, 'contain': 34, 'continuity': 38, 'plan': 112, 'exercise': 58, 'test': 154, 'results': 132, 'provide': 122, 'them': 157, 'senior': 139, 'management': 91, 'transport': 160, 'backup': 20, 'media': 93, 'lockable': 86, 'storage': 146, 'containers': 35, 'separate': 140, 'off': 101, 'site': 143, 'from': 64, 'primary': 117, 'through': 158, 'geographic': 67, 'separation': 141, 'alternate': 6, 'install': 81, 'generator': 66, 'sized': 144, 'support': 148, 'designate': 45, 'an': 7, 'service': 142, 'level': 83, 'agreements': 4, 'include': 78, 'damaged': 43, 'cover': 42, 'continuing': 37, 'operations': 103, 'partially': 106, 'functional': 65, 'store': 147, 'prepare': 116, 'emergency': 52, 'offsite': 102, 'relocation': 126, 'change': 27, 'requests': 128, 'changes': 29, 'update': 165, 'associated': 15, 'documentation': 50, 'after': 2, 'system': 149, 'configuration': 33, 'has': 71, 'changed': 28, 'approve': 9, 'prior': 118, 'implementing': 76, 'approved': 10, 'occurred': 99, 'program': 120, 'patch': 107, 'software': 145, 'release': 125, 'implement': 75, 'perform': 108, 'risk': 134, 'assessments': 14, 'approving': 11, 'records': 124, 'policies': 114, 'used': 168, 'organizational': 105, 'record': 123, 'classification': 31, 'scheme': 136, 'capture': 25, 'required': 129, 'by': 24, 'compliance': 32, 'requirements': 130, 'inside': 80, 'remote': 127, 'teleworking': 152, 'network': 98, 'accounts': 1, 'encryption': 53, 'evaluate': 57, 'usage': 166, 'disallow': 47, 'users': 169, 'copying': 41, 'files': 62, 'devices': 46, 'two': 161, 'factor': 61, 'techniques': 151, 'methods': 94}\n"
     ]
    }
   ],
   "source": [
    "print(Tfidf_vect.vocabulary_)"
   ]
  },
  {
   "cell_type": "code",
   "execution_count": 22,
   "metadata": {},
   "outputs": [
    {
     "name": "stdout",
     "output_type": "stream",
     "text": [
      "  (0, 159)\t0.21830726147695526\n",
      "  (0, 134)\t0.4095629458901749\n",
      "  (0, 128)\t0.31072962293988254\n",
      "  (0, 118)\t0.3472060617964987\n",
      "  (0, 108)\t0.4095629458901749\n",
      "  (0, 27)\t0.2535148222114114\n",
      "  (0, 14)\t0.4095629458901749\n",
      "  (0, 11)\t0.4095629458901749\n",
      "  (1, 165)\t0.29680401195360084\n",
      "  (1, 156)\t0.23454895787173222\n",
      "  (1, 149)\t0.29680401195360084\n",
      "  (1, 71)\t0.29680401195360084\n",
      "  (1, 50)\t0.3453311485020372\n",
      "  (1, 33)\t0.3453311485020372\n",
      "  (1, 28)\t0.3453311485020372\n",
      "  (1, 22)\t0.34000278206409895\n",
      "  (1, 15)\t0.3453311485020372\n",
      "  (1, 2)\t0.29680401195360084\n",
      "  (2, 146)\t0.4627141171389258\n",
      "  (2, 119)\t0.3322313986322183\n",
      "  (2, 93)\t0.4627141171389258\n",
      "  (2, 91)\t0.31727299761503025\n",
      "  (2, 89)\t0.23332210821247576\n",
      "  (2, 56)\t0.23394681693159355\n",
      "  (2, 51)\t0.45867903551370737\n",
      "  :\t:\n",
      "  (1021, 10)\t0.2737728700301501\n",
      "  (1021, 7)\t0.3585580641454102\n",
      "  (1021, 2)\t0.3081722353118299\n",
      "  (1022, 120)\t0.4676079170452184\n",
      "  (1022, 107)\t0.6620246673891029\n",
      "  (1022, 91)\t0.37090418241517537\n",
      "  (1022, 89)\t0.27276240473177193\n",
      "  (1022, 56)\t0.2734927129472639\n",
      "  (1022, 8)\t0.2372734070257278\n",
      "  (1023, 152)\t0.3790659268690971\n",
      "  (1023, 127)\t0.2507952410525544\n",
      "  (1023, 100)\t0.45519759128108794\n",
      "  (1023, 94)\t0.4595662091390546\n",
      "  (1023, 39)\t0.35486837199923793\n",
      "  (1023, 8)\t0.19545598978119139\n",
      "  (1023, 5)\t0.3761170666639676\n",
      "  (1023, 0)\t0.2634505062418277\n",
      "  (1024, 152)\t0.3790659268690971\n",
      "  (1024, 127)\t0.2507952410525544\n",
      "  (1024, 100)\t0.45519759128108794\n",
      "  (1024, 94)\t0.4595662091390546\n",
      "  (1024, 39)\t0.35486837199923793\n",
      "  (1024, 8)\t0.19545598978119139\n",
      "  (1024, 5)\t0.3761170666639676\n",
      "  (1024, 0)\t0.2634505062418277\n"
     ]
    }
   ],
   "source": [
    "# vocabulary that it has learned from the data\n",
    "#in the output, first value in parenthesis indicates the Row number and 2nd value indicates unique value for each word\n",
    "# decimal values are TD-IDF score for that word\n",
    "print(Train_X_Tfidf)"
   ]
  },
  {
   "cell_type": "code",
   "execution_count": 23,
   "metadata": {},
   "outputs": [
    {
     "name": "stderr",
     "output_type": "stream",
     "text": [
      "C:\\Users\\bluewelt\\Anaconda3\\lib\\site-packages\\sklearn\\utils\\validation.py:761: DataConversionWarning: A column-vector y was passed when a 1d array was expected. Please change the shape of y to (n_samples, ), for example using ravel().\n",
      "  y = column_or_1d(y, warn=True)\n"
     ]
    },
    {
     "data": {
      "text/plain": [
       "MultinomialNB(alpha=1.0, class_prior=None, fit_prior=True)"
      ]
     },
     "execution_count": 23,
     "metadata": {},
     "output_type": "execute_result"
    }
   ],
   "source": [
    "#Naive Bayes Classifier Algorithm\n",
    "Naive = naive_bayes.MultinomialNB()\n",
    "Naive.fit(Train_X_Tfidf,train_Y)"
   ]
  },
  {
   "cell_type": "code",
   "execution_count": 24,
   "metadata": {},
   "outputs": [],
   "source": [
    "predictions = Naive.predict(Test_X_Tfidf)"
   ]
  },
  {
   "cell_type": "code",
   "execution_count": 26,
   "metadata": {},
   "outputs": [
    {
     "name": "stdout",
     "output_type": "stream",
     "text": [
      "Naive Bayes Accuracy Score  98.86363636363636\n"
     ]
    }
   ],
   "source": [
    "print(\"Naive Bayes Accuracy Score \",accuracy_score(predictions, test_Y)*100)"
   ]
  },
  {
   "cell_type": "code",
   "execution_count": 27,
   "metadata": {},
   "outputs": [
    {
     "name": "stderr",
     "output_type": "stream",
     "text": [
      "C:\\Users\\bluewelt\\Anaconda3\\lib\\site-packages\\sklearn\\utils\\validation.py:761: DataConversionWarning: A column-vector y was passed when a 1d array was expected. Please change the shape of y to (n_samples, ), for example using ravel().\n",
      "  y = column_or_1d(y, warn=True)\n"
     ]
    },
    {
     "data": {
      "text/plain": [
       "SVC(C=1.0, cache_size=200, class_weight=None, coef0=0.0,\n",
       "  decision_function_shape='ovr', degree=3, gamma='auto', kernel='linear',\n",
       "  max_iter=-1, probability=False, random_state=None, shrinking=True,\n",
       "  tol=0.001, verbose=False)"
      ]
     },
     "execution_count": 27,
     "metadata": {},
     "output_type": "execute_result"
    }
   ],
   "source": [
    "#Support Vector Machine Classifier Algorithm\n",
    "SVM = svm.SVC(C=1.0, kernel='linear', degree=3, gamma='auto')\n",
    "SVM.fit(Train_X_Tfidf,train_Y)"
   ]
  },
  {
   "cell_type": "code",
   "execution_count": 28,
   "metadata": {},
   "outputs": [],
   "source": [
    "predictions_SVM = SVM.predict(Test_X_Tfidf)"
   ]
  },
  {
   "cell_type": "code",
   "execution_count": 29,
   "metadata": {},
   "outputs": [
    {
     "name": "stdout",
     "output_type": "stream",
     "text": [
      "SVM Accuracy Score 99.77272727272727\n"
     ]
    }
   ],
   "source": [
    "print(\"SVM Accuracy Score\",accuracy_score(predictions_SVM, test_Y)*100)"
   ]
  },
  {
   "cell_type": "code",
   "execution_count": null,
   "metadata": {},
   "outputs": [],
   "source": []
  }
 ],
 "metadata": {
  "kernelspec": {
   "display_name": "Python 3",
   "language": "python",
   "name": "python3"
  },
  "language_info": {
   "codemirror_mode": {
    "name": "ipython",
    "version": 3
   },
   "file_extension": ".py",
   "mimetype": "text/x-python",
   "name": "python",
   "nbconvert_exporter": "python",
   "pygments_lexer": "ipython3",
   "version": "3.7.1"
  }
 },
 "nbformat": 4,
 "nbformat_minor": 2
}
